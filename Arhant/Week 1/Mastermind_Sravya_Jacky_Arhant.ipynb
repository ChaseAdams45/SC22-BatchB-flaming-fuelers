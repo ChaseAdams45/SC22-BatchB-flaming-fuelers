{
 "cells": [
  {
   "cell_type": "markdown",
   "metadata": {
    "collapsed": false,
    "id": "FIl5ePMRnNbH"
   },
   "source": [
    "# Welcome to **MASTERMIND**\n",
    "\n",
    "Today we will be creating Mastermind, a classic game similar to Wordle. The steps of Mastermind are as follows:\n",
    "\n",
    "*   The computer plays first by setting a 4-digit number.\n",
    "*   The user now tries their first attempt at guessing the number.\n",
    "*   If the user succeeds in their first attempt (despite odds which are highly unlikely) they win the game and is crowned Mastermind! If not, then the computer hints by revealing which digits or numbers the user got correct.\n",
    "*   The game continues till the user eventually is able to guess the number entirely.\n",
    "\n",
    "\n"
   ]
  },
  {
   "cell_type": "markdown",
   "metadata": {
    "collapsed": false,
    "id": "PyCFDcrEGhpg"
   },
   "source": [
    "## Some Python Background: Typecasting & Strings\n",
    "In this project, we will most likely use some typecasting. This is where you convert (or *cast*) a piece of data to a certain data type, such as a string or integer. Some of the code below could be useful for you on this project. "
   ]
  },
  {
   "cell_type": "code",
   "execution_count": 0,
   "metadata": {
    "colab": {
     "base_uri": "https://localhost:8080/"
    },
    "collapsed": false,
    "id": "MJ2biGAUG77u",
    "outputId": "9b0571f0-f867-4fac-e2bf-84fec90378bb"
   },
   "outputs": [
    {
     "name": "stdout",
     "output_type": "stream",
     "text": [
      "my_decimal: 150000.0\n"
     ]
    }
   ],
   "source": [
    "#start with a decimal\n",
    "my_decimal = 150000.0\n",
    "print(\"my_decimal:\", my_decimal)\n"
   ]
  },
  {
   "cell_type": "markdown",
   "metadata": {
    "collapsed": false,
    "id": "Q3-oqvm8H6fI"
   },
   "source": [
    "Typecasting lets us convert a piece of data to a different data type. "
   ]
  },
  {
   "cell_type": "code",
   "execution_count": 0,
   "metadata": {
    "colab": {
     "base_uri": "https://localhost:8080/"
    },
    "collapsed": false,
    "id": "6GbIe7mMHeOz",
    "outputId": "9cfb5b3d-61ab-4f36-a9a8-866849e6be80"
   },
   "outputs": [
    {
     "name": "stdout",
     "output_type": "stream",
     "text": [
      "number: 150000\n"
     ]
    }
   ],
   "source": [
    "my_integer = int(my_decimal) #convert the decimal into an integer\n",
    "print(\"my_integer:\", my_integer)"
   ]
  },
  {
   "cell_type": "markdown",
   "metadata": {
    "collapsed": false,
    "id": "86uGwcGTH_Hb"
   },
   "source": [
    "We may want to convert to different data types for processing data. Strings are one way to process numbers digit by digit."
   ]
  },
  {
   "cell_type": "code",
   "execution_count": 0,
   "metadata": {
    "colab": {
     "base_uri": "https://localhost:8080/"
    },
    "collapsed": false,
    "id": "5U_EISMqHeG0",
    "outputId": "b527d926-d35e-4484-8707-19f6eb82e619"
   },
   "outputs": [
    {
     "name": "stdout",
     "output_type": "stream",
     "text": [
      "string_number: 150000\n"
     ]
    }
   ],
   "source": [
    "my_string = str(my_integer) #convert the integer into a string.\n",
    "print(\"string_number:\", my_string)"
   ]
  },
  {
   "cell_type": "markdown",
   "metadata": {
    "collapsed": false,
    "id": "G823cceuHqRv"
   },
   "source": [
    "The reason why strings are powerful for processing numbers digit by digit is because they can be accessed like lists."
   ]
  },
  {
   "cell_type": "code",
   "execution_count": 0,
   "metadata": {
    "colab": {
     "base_uri": "https://localhost:8080/"
    },
    "collapsed": false,
    "id": "VuYJEIrHHtvS",
    "outputId": "92e67438-8377-4c41-9443-19f5ddff9a4e"
   },
   "outputs": [
    {
     "name": "stdout",
     "output_type": "stream",
     "text": [
      "1 5 0 0 0 0\n"
     ]
    }
   ],
   "source": [
    "print(my_string[0], my_string[1], my_string[2], my_string[3], my_string[4], my_string[5])"
   ]
  },
  {
   "cell_type": "code",
   "execution_count": 0,
   "metadata": {
    "colab": {
     "base_uri": "https://localhost:8080/"
    },
    "collapsed": false,
    "id": "P2n9yz-9Hd-V",
    "outputId": "0d4f2a26-314b-4720-a4ef-6ecbcaffc2ed"
   },
   "outputs": [
    {
     "name": "stdout",
     "output_type": "stream",
     "text": [
      "1\n",
      "5\n",
      "0\n",
      "0\n",
      "0\n",
      "0\n"
     ]
    }
   ],
   "source": [
    "for i in range(len(my_string)):\n",
    "  print(my_string[i])"
   ]
  },
  {
   "cell_type": "markdown",
   "metadata": {
    "collapsed": false,
    "id": "MywCq7XjDo7z"
   },
   "source": [
    "## Step 1: Setting a four digit number\n",
    "For this step, our program needs to set a random 4-digit number for the user to guess. It would make sense that this number is any number inbetween 1000 and 9999 right? \n",
    "\n",
    "We recommend checking out how to get random numbers in python. Maybe a google search of \"Get a random number in a certain range python\" is a good start. You should set this number to a variable to save for later. If you are stuck, look back at our old projects"
   ]
  },
  {
   "cell_type": "code",
   "execution_count": 0,
   "metadata": {
    "collapsed": false,
    "id": "2IAA6A4ZnLXx"
   },
   "outputs": [
   ],
   "source": [
    "#get a four digit integer between 1000 and 9999 and set it to a variable.\n",
    "import random\n",
    "number = random.randrange(lower)"
   ]
  },
  {
   "cell_type": "markdown",
   "metadata": {
    "collapsed": false,
    "id": "yl0IqDTEEzHB"
   },
   "source": [
    "## Step 2: Get the user's guess\n",
    "\n",
    "The user is now going to try to guess the 4-digit number. You should get `input()` from the user and set their guess to an integer. \n",
    "\n",
    "If you run into issues, try to google how to get integer input from a user in python!\n",
    "\n"
   ]
  },
  {
   "cell_type": "code",
   "execution_count": 0,
   "metadata": {
    "collapsed": false,
    "id": "djIIncFBFQ1_"
   },
   "outputs": [
   ],
   "source": [
    "#prompt the user for input and set the guess to an integer.\n",
    "guess=int(input(\"What's your guess?\"))"
   ]
  },
  {
   "cell_type": "markdown",
   "metadata": {
    "collapsed": false,
    "id": "gxclhNPSFYdB"
   },
   "source": [
    "## Step 3: See if the user succeeds in first try\n",
    "\n",
    "In this part, we need to check `if` the user's guess is correct and equal to the random four-digit integer the computer generated.\n",
    "\n",
    "If the user's guess is correct, you should output something like: \n",
    "\n",
    "> \"Great! You only needed 1 try! You're a Mastermind!\"\n",
    "\n",
    "Else, then the computer hints by revealing which digits or numbers the user got correct.\n",
    "\n"
   ]
  },
  {
   "cell_type": "code",
   "execution_count": 0,
   "metadata": {
    "collapsed": false,
    "id": "ustwEFoqFkWO"
   },
   "outputs": [
   ],
   "source": [
    "#check if the user's guess is correct\n",
    "if number=guess:\n",
    "    print(\"Great! You only needed 1 try! You're a Mastermind!\")\n",
    "    else:\n",
    "        print()\n",
    "#Otherwise, reveal which digits or numbers the user got correct - HINT: use string typecasting to determine which specific numbers are correct!"
   ]
  },
  {
   "cell_type": "markdown",
   "metadata": {
    "collapsed": false,
    "id": "pSDfXUdfGD1u"
   },
   "source": [
    "## Step 4: Continue in a loop.\n",
    "\n",
    "When our user is wrong, we need to let them guess again and keep a `count` of how many guesses they have used so far. We will keep looping until our user's guess is equal to the hidden number.\n",
    "\n",
    "For repetitive tasks in python, we usually use a `while` or a `for` loop. `While` loops continue executing code in a loop until a certain condition is met, and `for` loops typically are used for iterating across a piece of data. \n",
    "\n",
    "> DISCUSS: Discuss with your team and instructor which type of  loop would be better for this case.\n",
    "\n"
   ]
  },
  {
   "cell_type": "code",
   "execution_count": 9,
   "metadata": {
    "collapsed": false,
    "id": "r7xV_F6pSiAS"
   },
   "outputs": [
    {
     "ename": "SyntaxError",
     "evalue": "invalid syntax (12251167.py, line 20)",
     "output_type": "error",
     "traceback": [
      "\u001b[0;36m  Input \u001b[0;32mIn [9]\u001b[0;36m\u001b[0m\n\u001b[0;31m    else if num==guess:\u001b[0m\n\u001b[0m         ^\u001b[0m\n\u001b[0;31mSyntaxError\u001b[0m\u001b[0;31m:\u001b[0m invalid syntax\n"
     ]
    }
   ],
   "source": [
    "# Loop until the number guessed is equal to the hidden random number\n",
    "count=1\n",
    "\n",
    "def hint(number,guess):\n",
    "    guess_list=str(guess)\n",
    "    number_list=str(number)\n",
    "    hint=\"\"\n",
    "    counter=0\n",
    "    for num in range(len(guess_list)):\n",
    "        if guess_list[num] == number_list[num]:\n",
    "            hint+=guess_list[num]\n",
    "            counter+=1\n",
    "        else:\n",
    "            hint += \"X\"\n",
    "    hint=hint[::-1]\n",
    "    return \"You guessed \"+ str(counter)+\"digits correct! \\n\" + hint\n",
    "while num != guess:\n",
    "    if number==guess and count==1:\n",
    "        print(\"Great! You only needed 1 try! You're a Mastermind!\")\n",
    "    elif num==guess:\n",
    "        print(\"You solved the code in\" + str(num) +\" tries! You're a Mastermind!\")\n",
    "    else:\n",
    "        print(hint(num,guess))\n",
    "        guess = int(input(\"Guess again:\"))\n",
    "    count+=1\n",
    "if count == 8:\n",
    "    print(\"You lose!! Try again next time\")\n",
    "# in each loop, process the user's guess and reveal which digits or numbers the user got correct each round. "
   ]
  },
  {
   "cell_type": "markdown",
   "metadata": {
    "collapsed": false,
    "id": "MO1CHHGrSjHn"
   },
   "source": [
    "## Put it all together\n",
    "\n",
    "Combine all of your code from the previous steps below to make one smooth running program that will let a user play mastermind!\n",
    "\n"
   ]
  },
  {
   "cell_type": "code",
   "execution_count": 0,
   "metadata": {
    "collapsed": false
   },
   "outputs": [
   ],
   "source": [
   ]
  },
  {
   "cell_type": "code",
   "execution_count": 0,
   "metadata": {
    "collapsed": false
   },
   "outputs": [
   ],
   "source": [
   ]
  },
  {
   "cell_type": "code",
   "execution_count": 0,
   "metadata": {
    "collapsed": false
   },
   "outputs": [
   ],
   "source": [
   ]
  },
  {
   "cell_type": "code",
   "execution_count": 1,
   "metadata": {
    "cocalc": {
     "outputs": {
      "1": {
       "name": "input",
       "opts": {
        "password": false,
        "prompt": "How many digits"
       },
       "output_type": "stream",
       "value": "4"
      },
      "10": {
       "name": "input",
       "opts": {
        "password": false,
        "prompt": "Guess again:"
       },
       "output_type": "stream",
       "value": "1678"
      },
      "11": {
       "name": "input",
       "opts": {
        "password": false,
        "prompt": "Guess again:"
       },
       "output_type": "stream",
       "value": "1907"
      },
      "13": {
       "name": "input",
       "opts": {
        "password": false,
        "prompt": "Guess again:"
       },
       "output_type": "stream",
       "value": "8972"
      },
      "14": {
       "name": "input",
       "opts": {
        "password": false,
        "prompt": "Guess again:"
       },
       "output_type": "stream"
      },
      "2": {
       "name": "input",
       "opts": {
        "password": false,
        "prompt": "What's your guess"
       },
       "output_type": "stream",
       "value": "1212"
      },
      "3": {
       "name": "input",
       "opts": {
        "password": false,
        "prompt": "How many tries do you want"
       },
       "output_type": "stream",
       "value": "8"
      },
      "4": {
       "name": "input",
       "opts": {
        "password": false,
        "prompt": "Guess again:"
       },
       "output_type": "stream"
      },
      "6": {
       "name": "input",
       "opts": {
        "password": false,
        "prompt": "Guess again:"
       },
       "output_type": "stream",
       "value": "12341234"
      },
      "7": {
       "name": "input",
       "opts": {
        "password": false,
        "prompt": "Guess again:"
       },
       "output_type": "stream",
       "value": "sadfasdf"
      },
      "8": {
       "name": "input",
       "opts": {
        "password": false,
        "prompt": "Guess again:"
       },
       "output_type": "stream",
       "value": "sdfg"
      },
      "9": {
       "name": "input",
       "opts": {
        "password": false,
        "prompt": "Guess again:"
       },
       "output_type": "stream",
       "value": "12341234"
      }
     }
    },
    "collapsed": false,
    "id": "28KLAYM7SlPC",
    "scrolled": true
   },
   "outputs": [
    {
     "name": "stdout",
     "output_type": "stream",
     "text": [
      "\t             ---- Welcome to Mastermind ----\n",
      ".....................................................................\n"
     ]
    },
    {
     "name": "stdout",
     "output_type": "stream",
     "text": "How many digits 4"
    },
    {
     "name": "stdout",
     "output_type": "stream",
     "text": "What's your guess 1212"
    },
    {
     "name": "stdout",
     "output_type": "stream",
     "text": "How many tries do you want 8"
    },
    {
     "name": "stdout",
     "output_type": "stream",
     "text": "Guess again: "
    },
    {
     "name": "stdout",
     "output_type": "stream",
     "text": [
      "You guessed 0 digit(s) correct! \n",
      "XXXX\n",
      "Go higher!\n"
     ],
     "value": "1987"
    },
    {
     "name": "stdout",
     "output_type": "stream",
     "text": [
      "You guessed 0 digit(s) correct! \n",
      "XXXX\n",
      "Go higher!\n"
     ]
    },
    {
     "name": "stdout",
     "output_type": "stream",
     "text": "Guess again: sadfasdf"
    },
    {
     "name": "stdout",
     "output_type": "stream",
     "text": [
      "Not a valid guess...\n"
     ]
    },
    {
     "name": "stdout",
     "output_type": "stream",
     "text": "Guess again: 12341234"
    },
    {
     "name": "stdout",
     "output_type": "stream",
     "text": [
      "Not in range\n"
     ]
    },
    {
     "name": "stdout",
     "output_type": "stream",
     "text": "Guess again: 1907"
    },
    {
     "name": "stdout",
     "output_type": "stream",
     "text": [
      "You guessed 0 digit(s) correct! \n",
      "XXXX\n",
      "Go higher!\n"
     ]
    },
    {
     "name": "stdout",
     "output_type": "stream",
     "text": "Guess again: 8972"
    },
    {
     "name": "stdout",
     "output_type": "stream",
     "text": "Guess again: "
    },
    {
     "name": "stdout",
     "output_type": "stream",
     "text": [
      "You guessed 0 digit(s) correct! \n",
      "XXXX\n",
      "Go lower!\n"
     ]
    }
   ],
   "source": [
    "#get a four digit integer between 1000 and 9999 and set it to a variable.\n",
    "print(\"\\t             ---- Welcome to Mastermind ----\")\n",
    "print(\".....................................................................\")\n",
    "import random\n",
    "\n",
    "\n",
    "\n",
    "while True:\n",
    "    try:\n",
    "        digits= int(input(\"How many digits\"))\n",
    "        lower_limit=10**(digits-1)\n",
    "        upper_limit=10**digits\n",
    "        guess=int(input(\"What's your guess\"))\n",
    "        tries=int(input(\"How many tries do you want\"))\n",
    "        if guess <lower_limit or guess>=upper_limit:\n",
    "            print(\"Not in range\")\n",
    "        else:\n",
    "            break\n",
    "    except:\n",
    "        print(\"Not a valid number\")\n",
    "\n",
    "number = random.randrange(lower_limit, upper_limit)\n",
    "count=1\n",
    "\n",
    "def hint(number,guess):\n",
    "    guess_list=str(guess)\n",
    "    number_list=str(number)\n",
    "    hint=\"\"\n",
    "    counter=0\n",
    "    for num in range(len(guess_list)):\n",
    "        if guess_list[num] == number_list[num]:\n",
    "            hint+=guess_list[num]\n",
    "            counter+=1\n",
    "        else:\n",
    "            hint += \"X\"\n",
    "\n",
    "    return \"You guessed \"+ str(counter)+\" digit(s) correct! \\n\" + hint\n",
    "while number != guess:\n",
    "    if number==guess and count==1:\n",
    "        print(\"Great! You only needed 1 try! You're a Mastermind!\")\n",
    "        break\n",
    "    elif number==guess:\n",
    "        print(\"You solved the code in\" + str(number) +\" tries! You're a Mastermind!\")\n",
    "        break\n",
    "    else:\n",
    "        print(hint(number,guess))\n",
    "        if number > guess:\n",
    "            print(\"Go higher!\")\n",
    "        else:\n",
    "            print(\"Go lower!\")\n",
    "        while True:\n",
    "            try:\n",
    "                guess=int(input(\"Guess again:\"))\n",
    "                if guess <lower_limit or guess>=upper_limit:\n",
    "                    print(\"Not in range\")\n",
    "                else:\n",
    "                    break\n",
    "            except:\n",
    "                print(\"Not a valid guess...\")\n",
    "\n",
    "    count+=1\n",
    "    if count == tries:\n",
    "        print(\"You ran out of tries!! Try again next time\")\n",
    "        break"
   ]
  },
  {
   "cell_type": "markdown",
   "metadata": {
    "collapsed": false
   },
   "source": [
    "If you want to go further, you can find the next instructions here - https://www.geeksforgeeks.org/mastermind-game-using-python/"
   ]
  }
 ],
 "metadata": {
  "colab": {
   "name": "Mastermind.ipynb",
   "provenance": [
   ]
  },
  "kernelspec": {
   "display_name": "Python (cv_env)",
   "language": "python",
   "metadata": {
    "debugger": true
   },
   "name": "cv_env",
   "resource_dir": "/projects/49811120-694c-43f1-9267-605bd2af9ca9/.local/share/jupyter/kernels/cv_env"
  },
  "language_info": {
   "codemirror_mode": {
    "name": "ipython",
    "version": 3
   },
   "file_extension": ".py",
   "mimetype": "text/x-python",
   "name": "python",
   "nbconvert_exporter": "python",
   "pygments_lexer": "ipython3",
   "version": "3.8.13"
  }
 },
 "nbformat": 4,
 "nbformat_minor": 4
}