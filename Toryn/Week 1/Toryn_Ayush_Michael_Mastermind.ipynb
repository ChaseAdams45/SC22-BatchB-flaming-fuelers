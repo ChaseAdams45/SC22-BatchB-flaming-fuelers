{
 "cells": [
  {
   "cell_type": "markdown",
   "metadata": {
    "collapsed": false,
    "id": "FIl5ePMRnNbH"
   },
   "source": [
    "# Welcome to **MASTERMIND**\n",
    "\n",
    "Today we will be creating Mastermind, a classic game similar to Wordle. The steps of Mastermind are as follows:\n",
    "\n",
    "*   The computer plays first by setting a 4-digit number.\n",
    "*   The user now tries their first attempt at guessing the number.\n",
    "*   If the user succeeds in their first attempt (despite odds which are highly unlikely) they win the game and is crowned Mastermind! If not, then the computer hints by revealing which digits or numbers the user got correct.\n",
    "*   The game continues till the user eventually is able to guess the number entirely.\n",
    "\n",
    "\n"
   ]
  },
  {
   "cell_type": "markdown",
   "metadata": {
    "collapsed": false,
    "id": "PyCFDcrEGhpg"
   },
   "source": [
    "## Some Python Background: Typecasting & Strings\n",
    "In this project, we will most likely use some typecasting. This is where you convert (or *cast*) a piece of data to a certain data type, such as a string or integer. Some of the code below could be useful for you on this project. "
   ]
  },
  {
   "cell_type": "code",
   "execution_count": 0,
   "metadata": {
    "colab": {
     "base_uri": "https://localhost:8080/"
    },
    "collapsed": false,
    "id": "MJ2biGAUG77u",
    "outputId": "9b0571f0-f867-4fac-e2bf-84fec90378bb"
   },
   "outputs": [
    {
     "name": "stdout",
     "output_type": "stream",
     "text": [
      "my_decimal: 150000.0\n"
     ]
    }
   ],
   "source": [
    "#start with a decimal\n",
    "my_decimal = 150000.0\n",
    "print(\"my_decimal:\", my_decimal)\n"
   ]
  },
  {
   "cell_type": "markdown",
   "metadata": {
    "collapsed": false,
    "id": "Q3-oqvm8H6fI"
   },
   "source": [
    "Typecasting lets us convert a piece of data to a different data type. "
   ]
  },
  {
   "cell_type": "code",
   "execution_count": 0,
   "metadata": {
    "colab": {
     "base_uri": "https://localhost:8080/"
    },
    "collapsed": false,
    "id": "6GbIe7mMHeOz",
    "outputId": "9cfb5b3d-61ab-4f36-a9a8-866849e6be80"
   },
   "outputs": [
    {
     "name": "stdout",
     "output_type": "stream",
     "text": [
      "number: 150000\n"
     ]
    }
   ],
   "source": [
    "my_integer = int(my_decimal) #convert the decimal into an integer\n",
    "print(\"my_integer:\", my_integer)"
   ]
  },
  {
   "cell_type": "markdown",
   "metadata": {
    "collapsed": false,
    "id": "86uGwcGTH_Hb"
   },
   "source": [
    "We may want to convert to different data types for processing data. Strings are one way to process numbers digit by digit."
   ]
  },
  {
   "cell_type": "code",
   "execution_count": 0,
   "metadata": {
    "colab": {
     "base_uri": "https://localhost:8080/"
    },
    "collapsed": false,
    "id": "5U_EISMqHeG0",
    "outputId": "b527d926-d35e-4484-8707-19f6eb82e619"
   },
   "outputs": [
    {
     "name": "stdout",
     "output_type": "stream",
     "text": [
      "string_number: 150000\n"
     ]
    }
   ],
   "source": [
    "my_string = str(my_integer) #convert the integer into a string.\n",
    "print(\"string_number:\", my_string)"
   ]
  },
  {
   "cell_type": "markdown",
   "metadata": {
    "collapsed": false,
    "id": "G823cceuHqRv"
   },
   "source": [
    "The reason why strings are powerful for processing numbers digit by digit is because they can be accessed like lists."
   ]
  },
  {
   "cell_type": "code",
   "execution_count": 0,
   "metadata": {
    "colab": {
     "base_uri": "https://localhost:8080/"
    },
    "collapsed": false,
    "id": "VuYJEIrHHtvS",
    "outputId": "92e67438-8377-4c41-9443-19f5ddff9a4e"
   },
   "outputs": [
    {
     "name": "stdout",
     "output_type": "stream",
     "text": [
      "1 5 0 0 0 0\n"
     ]
    }
   ],
   "source": [
    "print(my_string[0], my_string[1], my_string[2], my_string[3], my_string[4], my_string[5])"
   ]
  },
  {
   "cell_type": "code",
   "execution_count": 0,
   "metadata": {
    "colab": {
     "base_uri": "https://localhost:8080/"
    },
    "collapsed": false,
    "id": "P2n9yz-9Hd-V",
    "outputId": "0d4f2a26-314b-4720-a4ef-6ecbcaffc2ed"
   },
   "outputs": [
    {
     "name": "stdout",
     "output_type": "stream",
     "text": [
      "1\n",
      "5\n",
      "0\n",
      "0\n",
      "0\n",
      "0\n"
     ]
    }
   ],
   "source": [
    "for i in range(len(my_string)):\n",
    "  print(my_string[i])"
   ]
  },
  {
   "cell_type": "markdown",
   "metadata": {
    "collapsed": false,
    "id": "MywCq7XjDo7z"
   },
   "source": [
    "## Step 1: Setting a four digit number\n",
    "\n",
    "For this step, our program needs to set a random 4-digit number for the user to guess. It would make sense that this number is any number inbetween 1000 and 9999 right? \n",
    "\n",
    "We recommend checking out how to get random numbers in python. Maybe a google search of \"Get a random number in a certain range python\" is a good start. You should set this number to a variable to save for later. If you are stuck, look back at our old projects\n",
    "\n"
   ]
  },
  {
   "cell_type": "code",
   "execution_count": 10,
   "metadata": {
    "cocalc": {
     "outputs": {
      "0": {
       "name": "input",
       "opts": {
        "password": false,
        "prompt": "How long do you want the number to be?\n"
       },
       "output_type": "stream",
       "value": "5"
      }
     }
    },
    "collapsed": false,
    "id": "2IAA6A4ZnLXx"
   },
   "outputs": [
    {
     "name": "stdout",
     "output_type": "stream",
     "text": "How long do you want the number to be?\n 5"
    },
    {
     "name": "stdout",
     "output_type": "stream",
     "text": [
      "51495\n"
     ]
    }
   ],
   "source": [
   ]
  },
  {
   "cell_type": "markdown",
   "metadata": {
    "collapsed": false,
    "id": "yl0IqDTEEzHB"
   },
   "source": [
    "## Step 2: Get the user's guess\n",
    "\n",
    "The user is now going to try to guess the 4-digit number. You should get `input()` from the user and set their guess to an integer. \n",
    "\n",
    "If you run into issues, try to google how to get integer input from a user in python!\n",
    "\n"
   ]
  },
  {
   "cell_type": "code",
   "execution_count": 0,
   "metadata": {
    "collapsed": false,
    "id": "djIIncFBFQ1_"
   },
   "outputs": [
   ],
   "source": [
    "#prompt the user for input and set the guess to an integer.\n"
   ]
  },
  {
   "cell_type": "markdown",
   "metadata": {
    "collapsed": false,
    "id": "gxclhNPSFYdB"
   },
   "source": [
    "## Step 3: See if the user succeeds in first try\n",
    "In this part, we need to check `if` the user's guess is correct and equal to the random four-digit integer the computer generated.\n",
    "\n",
    "If the user's guess is correct, you should output something like: \n",
    "\n",
    "\n",
    "> \"Great! You only needed 1 try! You're a Mastermind!\"\n",
    "\n",
    "Else, then the computer hints by revealing which digits or numbers the user got correct."
   ]
  },
  {
   "cell_type": "code",
   "execution_count": 0,
   "metadata": {
    "collapsed": false,
    "id": "ustwEFoqFkWO"
   },
   "outputs": [
   ],
   "source": [
    "#check if the user's guess is correct\n",
    "\n",
    "#Otherwise, reveal which digits or numbers the user got correct - HINT: use string typecasting to determine which specific numbers are correct!"
   ]
  },
  {
   "cell_type": "markdown",
   "metadata": {
    "collapsed": false,
    "id": "pSDfXUdfGD1u"
   },
   "source": [
    "## Step 4: Continue in a loop.\n",
    "When our user is wrong, we need to let them guess again and keep a `count` of how many guesses they have used so far. We will keep looping until our user's guess is equal to the hidden number.\n",
    "\n",
    "For repetitive tasks in python, we usually use a `while` or a `for` loop. `While` loops continue executing code in a loop until a certain condition is met, and `for` loops typically are used for iterating across a piece of data. \n",
    "\n",
    "> DISCUSS: Discuss with your team and instructor which type of  loop would be better for this case.\n",
    "\n",
    "\n",
    "\n",
    "\n"
   ]
  },
  {
   "cell_type": "code",
   "execution_count": 0,
   "metadata": {
    "collapsed": false,
    "id": "r7xV_F6pSiAS"
   },
   "outputs": [
   ],
   "source": [
    "# Loop until the number guessed is equal to the hidden random number\n",
    "# in each loop, process the user's guess and reveal which digits or numbers the user got correct each round. "
   ]
  },
  {
   "cell_type": "markdown",
   "metadata": {
    "collapsed": false,
    "id": "MO1CHHGrSjHn"
   },
   "source": [
    "## Put it all together\n",
    "\n",
    "Combine all of your code from the previous steps below to make one smooth running program that will let a user play mastermind!\n",
    "\n"
   ]
  },
  {
   "cell_type": "code",
   "execution_count": 1,
   "metadata": {
    "cocalc": {
     "outputs": {
      "1": {
       "name": "input",
       "opts": {
        "password": false,
        "prompt": "How long do you want the number to be?\n"
       },
       "output_type": "stream",
       "value": "4"
      },
      "11": {
       "name": "input",
       "opts": {
        "password": false,
        "prompt": "Guess a random 4-digit number\n"
       },
       "output_type": "stream",
       "value": "2222"
      },
      "13": {
       "name": "input",
       "opts": {
        "password": false,
        "prompt": "Guess a random 4-digit number\n"
       },
       "output_type": "stream",
       "value": "3345"
      },
      "14": {
       "name": "input",
       "opts": {
        "password": false,
        "prompt": "Guess a random 4-digit number\n"
       },
       "output_type": "stream"
      },
      "17": {
       "name": "input",
       "opts": {
        "password": false,
        "prompt": "Guess a random 4-digit number\n"
       },
       "output_type": "stream",
       "value": "6389"
      },
      "19": {
       "name": "input",
       "opts": {
        "password": false,
        "prompt": "Guess a random 4-digit number\n"
       },
       "output_type": "stream",
       "value": "9305"
      },
      "2": {
       "name": "input",
       "opts": {
        "password": false,
        "prompt": "How many tries do you want?\n"
       },
       "output_type": "stream",
       "value": "10"
      },
      "20": {
       "name": "input",
       "opts": {
        "password": false,
        "prompt": "Guess a random 4-digit number\n"
       },
       "output_type": "stream"
      },
      "23": {
       "name": "input",
       "opts": {
        "password": false,
        "prompt": "Guess a random 4-digit number\n"
       },
       "output_type": "stream"
      },
      "3": {
       "name": "input",
       "opts": {
        "password": false,
        "prompt": "Guess a random 4-digit number\n"
       },
       "output_type": "stream",
       "value": "1111"
      },
      "4": {
       "name": "input",
       "opts": {
        "password": false,
        "prompt": "Guess a random 4-digit number\n"
       },
       "output_type": "stream"
      },
      "7": {
       "name": "input",
       "opts": {
        "password": false,
        "prompt": "Guess a random 4-digit number\n"
       },
       "output_type": "stream",
       "value": "123456"
      },
      "9": {
       "name": "input",
       "opts": {
        "password": false,
        "prompt": "Guess a random 4-digit number\n"
       },
       "output_type": "stream",
       "value": "2324"
      }
     }
    },
    "collapsed": false,
    "id": "28KLAYM7SlPC"
   },
   "outputs": [
    {
     "name": "stdout",
     "output_type": "stream",
     "text": [
      "Mastermind\n",
      "\n"
     ]
    },
    {
     "name": "stdout",
     "output_type": "stream",
     "text": "How long do you want the number to be?\n 4"
    },
    {
     "name": "stdout",
     "output_type": "stream",
     "text": "How many tries do you want?\n 10"
    },
    {
     "name": "stdout",
     "output_type": "stream",
     "text": "Guess a random 4-digit number\n 1111"
    },
    {
     "name": "stdout",
     "output_type": "stream",
     "text": "Guess a random 4-digit number\n "
    },
    {
     "name": "stdout",
     "output_type": "stream",
     "text": [
      "X X X X - You have 9 tries left.\n"
     ],
     "value": "112"
    },
    {
     "name": "stdout",
     "output_type": "stream",
     "text": [
      "Please enter a valid integer that is also a length of 4 and is inbetween 1000-9999!\n"
     ]
    },
    {
     "name": "stdout",
     "output_type": "stream",
     "text": "Guess a random 4-digit number\n 123456"
    },
    {
     "name": "stdout",
     "output_type": "stream",
     "text": [
      "Please enter a valid integer that is also a length of 4 and is inbetween 1000-9999!\n"
     ]
    },
    {
     "name": "stdout",
     "output_type": "stream",
     "text": "Guess a random 4-digit number\n 2324"
    },
    {
     "name": "stdout",
     "output_type": "stream",
     "text": [
      "X 3 X X - You have 8 tries left.\n"
     ]
    },
    {
     "name": "stdout",
     "output_type": "stream",
     "text": "Guess a random 4-digit number\n 2222"
    },
    {
     "name": "stdout",
     "output_type": "stream",
     "text": [
      "X X X X - You have 7 tries left.\n"
     ]
    },
    {
     "name": "stdout",
     "output_type": "stream",
     "text": "Guess a random 4-digit number\n 3345"
    },
    {
     "name": "stdout",
     "output_type": "stream",
     "text": "Guess a random 4-digit number\n "
    },
    {
     "name": "stdout",
     "output_type": "stream",
     "text": [
      "X 3 X X - You have 6 tries left.\n"
     ],
     "value": "4356"
    },
    {
     "name": "stdout",
     "output_type": "stream",
     "text": [
      "X 3 X X - You have 5 tries left.\n"
     ]
    },
    {
     "name": "stdout",
     "output_type": "stream",
     "text": "Guess a random 4-digit number\n 6389"
    },
    {
     "name": "stdout",
     "output_type": "stream",
     "text": [
      "X 3 X X - You have 4 tries left.\n"
     ]
    },
    {
     "name": "stdout",
     "output_type": "stream",
     "text": "Guess a random 4-digit number\n 9305"
    },
    {
     "name": "stdout",
     "output_type": "stream",
     "text": "Guess a random 4-digit number\n "
    },
    {
     "name": "stdout",
     "output_type": "stream",
     "text": [
      "X 3 X X - You have 3 tries left.\n"
     ],
     "value": "9378"
    },
    {
     "name": "stdout",
     "output_type": "stream",
     "text": [
      "X 3 X X - You have 2 tries left.\n"
     ]
    },
    {
     "name": "stdout",
     "output_type": "stream",
     "text": "Guess a random 4-digit number\n "
    }
   ],
   "source": [
    "from random import randint\n",
    "\n",
    "print(\"Mastermind\\n\")\n",
    "#Asks for length of number, cannot be less than 0 and must be an int for obvious reasons\n",
    "while True:\n",
    "    try:\n",
    "        length = int(input(\"How long do you want the number to be?\\n\").strip())\n",
    "        if length > 0:\n",
    "            break\n",
    "        else:\n",
    "            raise ValueError()\n",
    "\n",
    "    except:\n",
    "        print(\"Length must be an integer!\")\n",
    "        continue\n",
    "\n",
    "while length <=0:\n",
    "    print(\"Too small, try a bigger length\")\n",
    "    length = int(input(\"How long do you want the number to be?\\n\").strip())\n",
    "\n",
    "#Starting values\n",
    "start = 1\n",
    "end = 9\n",
    "\n",
    "#Changes starting values based on length\n",
    "for i in range(length-1):\n",
    "    start *= 10\n",
    "    end = 9 + end*10\n",
    "\n",
    "#Gets the random number that user must guess\n",
    "number = randint(start,end)\n",
    "\n",
    "# Get amount of tries the user wants and type check\n",
    "while True:\n",
    "    try:\n",
    "        inp = int(input('How many tries do you want?\\n').strip())\n",
    "        if inp > 0:\n",
    "            init_tries = inp\n",
    "            tries = inp\n",
    "        else:\n",
    "            raise ValueError()\n",
    "        break\n",
    "    except ValueError:\n",
    "        print('Please enter a valid integer that is also greater than 0!\\n')\n",
    "        continue\n",
    "\n",
    "while True:\n",
    "    # Check if tries are out\n",
    "    if not tries:\n",
    "        print(f'You\\'re out of guesses! Game over - The number was: {number}')\n",
    "        break\n",
    "\n",
    "    # Get users guess and type check\n",
    "    try:\n",
    "        inp = int(input(f'Guess a random {length}-digit number\\n').strip())\n",
    "        if len(str(inp)) == length and start <= inp <= end:\n",
    "            guess = inp\n",
    "        else:\n",
    "            raise ValueError()\n",
    "    except ValueError:\n",
    "        print(f'Please enter a valid integer that is also a length of {length} and is inbetween {start}-{end}!')\n",
    "        continue\n",
    "\n",
    "    # Generate hint by iterating over length of random number and checking guessed number vs correct number\n",
    "    tries -= 1\n",
    "    digitsCorrect = 0\n",
    "    hint = \"\"\n",
    "    for digit in range(length):\n",
    "        guessDigit = int(str(guess)[digit])\n",
    "        numberDigit = int(str(number)[digit])\n",
    "        if guessDigit == numberDigit:\n",
    "            hint += f'{numberDigit} '\n",
    "            digitsCorrect += 1\n",
    "        else:\n",
    "            hint += \"X \"\n",
    "    hint = hint.rstrip()\n",
    "\n",
    "\n",
    "    # Check if guess is number, print out custom messages based on how many tries you used\n",
    "    if guess == number:\n",
    "        print(f'You got it right! The number was {number}, you have {tries}/{init_tries} of your tries left.')\n",
    "\n",
    "        if tries == init_tries-1:\n",
    "            print(\"First try? You are a god.\")\n",
    "        elif tries <= 2:\n",
    "            print(\"You were cutting it close!\")\n",
    "        elif tries < 5:\n",
    "            print(\"You got it with a fair number of guesses left.\")\n",
    "        elif tries >= 5:\n",
    "            print(\"You had a lot of guesses left!\")\n",
    "\n",
    "        break\n",
    "    #If user gets answer wrong\n",
    "    else:\n",
    "        #Progress on guessing the number\n",
    "        if digitsCorrect >= length / 2:\n",
    "            print(f'{hint} - You have {tries} tries left.\\nHalf of them left, you\\'re close!')\n",
    "        elif digitsCorrect >= length / 3:\n",
    "            print(f'{hint} - You have {tries} tries left.\\nYou got 1/3 of the digits, getting closer...')\n",
    "        else:\n",
    "            print(f'{hint} - You have {tries} tries left.')"
   ]
  },
  {
   "cell_type": "markdown",
   "metadata": {
    "collapsed": false
   },
   "source": [
    "#### If you want to go further, you can find the next instructions here - https://www.geeksforgeeks.org/mastermind-game-using-python/\n",
    "\n",
    "##### If you want to go further, you can find the next instructions here \\- [https://www.geeksforgeeks.org/mastermind\\-game\\-using\\-python/](https://www.geeksforgeeks.org/mastermind-game-using-python/)\n",
    "\n"
   ]
  }
 ],
 "metadata": {
  "colab": {
   "name": "Mastermind.ipynb",
   "provenance": [
   ]
  },
  "kernelspec": {
   "display_name": "Python (cv_env)",
   "language": "python",
   "metadata": {
    "debugger": true
   },
   "name": "cv_env",
   "resource_dir": "/projects/49811120-694c-43f1-9267-605bd2af9ca9/.local/share/jupyter/kernels/cv_env"
  },
  "language_info": {
   "codemirror_mode": {
    "name": "ipython",
    "version": 3
   },
   "file_extension": ".py",
   "mimetype": "text/x-python",
   "name": "python",
   "nbconvert_exporter": "python",
   "pygments_lexer": "ipython3",
   "version": "3.8.13"
  }
 },
 "nbformat": 4,
 "nbformat_minor": 4
}